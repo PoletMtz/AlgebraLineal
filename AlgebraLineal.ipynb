{
  "nbformat": 4,
  "nbformat_minor": 0,
  "metadata": {
    "colab": {
      "name": "AlgebraLineal.ipynb",
      "provenance": [],
      "collapsed_sections": []
    },
    "kernelspec": {
      "name": "python3",
      "display_name": "Python 3"
    }
  },
  "cells": [
    {
      "cell_type": "code",
      "metadata": {
        "id": "zB1a0UtGKZHm",
        "colab_type": "code",
        "outputId": "e9c617d4-c6b0-48e7-bfe5-529dd314f029",
        "colab": {
          "base_uri": "https://localhost:8080/",
          "height": 67
        }
      },
      "source": [
        "import numpy as np\n",
        "def polyfit2(x,y,n):\n",
        "  def inv(A):\n",
        "      return np.linalg.inv(A) #matriz inversa de la matriz A\n",
        "  def trans(A):\n",
        "      return A.getT() #transpuesta de la matriz A\n",
        "  def prod(A,B): \n",
        "      return np.dot(A,B) #producto punto entre los vectores A y B\n",
        "\n",
        "  xlen = len(x) #calcula la longitud entre vectores A y B\n",
        "  ylen = len(y)\n",
        "  one = np.ones ((xlen,n+1),dtype=int) #matriz de unos de dimensiones (xlen,n+1)\n",
        "  c1=one[:,[1]] #seleccionamos solo la columna 1 de la matriz one\n",
        "  xT=np.matrix(x) #convierte los datos a una matriz de nupy\n",
        "  yT=np.matrix(y) #convierte los datos a una matriz de nupy\n",
        "  c2=xT.getT()\n",
        "  c3=np.power(c2,2) #eleva al cuadrado los elementos de la matriz c2\n",
        "  A=np.hstack([c1,c2,c3]) #agrupa las columnas c1,c2,c3 en una matriz A\n",
        "  ajuste = prod(prod(inv(prod(trans(A),A)),trans(A)),trans(yT)) #la funcion prod realiza los productos de las matrices que recibe como argumentos\n",
        "  print(ajuste)\n",
        "\n",
        "x=[2.0,-2.0,5.0,3.0] #ejemplo 2 seccion 6.2\n",
        "y=[4.0,5.0,-1.0,1.0]\n",
        "\n",
        "polyfit2(x,y,2) #el resultado es el polinomio y=-0.1423499x^2 - 0.4738641x + 4.69 "
      ],
      "execution_count": 6,
      "outputs": [
        {
          "output_type": "stream",
          "text": [
            "[[ 4.69238218]\n",
            " [-0.4738541 ]\n",
            " [-0.1423499 ]]\n"
          ],
          "name": "stdout"
        }
      ]
    }
  ]
}